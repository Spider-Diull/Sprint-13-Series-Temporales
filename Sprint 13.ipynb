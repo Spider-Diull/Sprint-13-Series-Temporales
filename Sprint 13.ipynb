{
 "cells": [
  {
   "cell_type": "markdown",
   "metadata": {},
   "source": [
    "# Descripción del proyecto\n",
    "\n",
    "La compañía Sweet Lift Taxi ha recopilado datos históricos sobre pedidos de taxis en los aeropuertos. Para atraer a más conductores durante las horas pico, necesitamos predecir la cantidad de pedidos de taxis para la próxima hora. Construye un modelo para dicha predicción.\n",
    "\n",
    "La métrica RECM en el conjunto de prueba no debe ser superior a 48.\n",
    "\n",
    "## Instrucciones del proyecto.\n",
    "\n",
    "1. Descargar los datos y haz el remuestreo por una hora.\n",
    "2. Analizar los datos\n",
    "3. Entrenar diferentes modelos con diferentes hiperparámetros. La muestra de prueba debe ser el 10% del conjunto de datos inicial.\n",
    "4. Probar los datos usando la muestra de prueba y proporciona una conclusión.\n",
    "\n",
    "## Descripción de los datos\n",
    "\n",
    "Los datos se almacenan en el archivo `taxi.csv`. \t\n",
    "El número de pedidos está en la columna `num_orders`."
   ]
  },
  {
   "cell_type": "markdown",
   "metadata": {},
   "source": [
    "## Preparación\n",
    "\n",
    "- Importamos las librerias que utilzaremos en el proyecto.\n"
   ]
  },
  {
   "cell_type": "code",
   "execution_count": 1,
   "metadata": {},
   "outputs": [],
   "source": [
    "#Librerias estandar\n",
    "import pandas\n",
    "import numpy\n",
    "import matplotlib.pyplot as plt\n",
    "import datetime\n",
    "#Librerias de terceros\n",
    "\n",
    "#Librerias especificas\n",
    "from sklearn.metrics import mean_squared_error\n",
    "from statsmodels.tsa.seasonal import seasonal_decompose\n",
    "from sklearn.preprocessing import StandardScaler\n",
    "from sklearn.model_selection import train_test_split\n",
    "from sklearn.linear_model import LinearRegression"
   ]
  },
  {
   "cell_type": "markdown",
   "metadata": {},
   "source": [
    "- Leemos los datos y los dejamos en un DataFrame donde la primera columna la convertimos en el index del DataFrame y las convertimos en tipo 'Date'."
   ]
  },
  {
   "cell_type": "code",
   "execution_count": 2,
   "metadata": {},
   "outputs": [],
   "source": [
    "df = pandas.read_csv('/datasets/taxi.csv', index_col=[0], parse_dates=[0])\n",
    "df.sort_index(inplace=True)"
   ]
  },
  {
   "cell_type": "markdown",
   "metadata": {},
   "source": [
    "- Verificamos si las fechas y horas estan en orden Cronologico."
   ]
  },
  {
   "cell_type": "code",
   "execution_count": 3,
   "metadata": {},
   "outputs": [
    {
     "name": "stdout",
     "output_type": "stream",
     "text": [
      "True\n"
     ]
    }
   ],
   "source": [
    "# comprobar que el índice es monótono\n",
    "print(df.index.is_monotonic)"
   ]
  },
  {
   "cell_type": "markdown",
   "metadata": {},
   "source": [
    "- Agrupamos los datos por la suma de pedidos de taxi cada hora en los primeros 3 meses del DataSet."
   ]
  },
  {
   "cell_type": "code",
   "execution_count": 4,
   "metadata": {},
   "outputs": [],
   "source": [
    "df=df['2018-03':'2018-06'].resample('1H').sum()"
   ]
  },
  {
   "cell_type": "markdown",
   "metadata": {},
   "source": [
    "- Realizamos un analisis exploratorio inicial del DataSet."
   ]
  },
  {
   "cell_type": "code",
   "execution_count": 5,
   "metadata": {},
   "outputs": [
    {
     "name": "stdout",
     "output_type": "stream",
     "text": [
      "<class 'pandas.core.frame.DataFrame'>\n",
      "DatetimeIndex: 2928 entries, 2018-03-01 00:00:00 to 2018-06-30 23:00:00\n",
      "Freq: H\n",
      "Data columns (total 1 columns):\n",
      " #   Column      Non-Null Count  Dtype\n",
      "---  ------      --------------  -----\n",
      " 0   num_orders  2928 non-null   int64\n",
      "dtypes: int64(1)\n",
      "memory usage: 45.8 KB\n"
     ]
    }
   ],
   "source": [
    "df.info()"
   ]
  },
  {
   "cell_type": "code",
   "execution_count": 6,
   "metadata": {},
   "outputs": [
    {
     "data": {
      "text/html": [
       "<div>\n",
       "<style scoped>\n",
       "    .dataframe tbody tr th:only-of-type {\n",
       "        vertical-align: middle;\n",
       "    }\n",
       "\n",
       "    .dataframe tbody tr th {\n",
       "        vertical-align: top;\n",
       "    }\n",
       "\n",
       "    .dataframe thead th {\n",
       "        text-align: right;\n",
       "    }\n",
       "</style>\n",
       "<table border=\"1\" class=\"dataframe\">\n",
       "  <thead>\n",
       "    <tr style=\"text-align: right;\">\n",
       "      <th></th>\n",
       "      <th>num_orders</th>\n",
       "    </tr>\n",
       "  </thead>\n",
       "  <tbody>\n",
       "    <tr>\n",
       "      <th>count</th>\n",
       "      <td>2928.000000</td>\n",
       "    </tr>\n",
       "    <tr>\n",
       "      <th>mean</th>\n",
       "      <td>69.478484</td>\n",
       "    </tr>\n",
       "    <tr>\n",
       "      <th>std</th>\n",
       "      <td>33.797497</td>\n",
       "    </tr>\n",
       "    <tr>\n",
       "      <th>min</th>\n",
       "      <td>0.000000</td>\n",
       "    </tr>\n",
       "    <tr>\n",
       "      <th>25%</th>\n",
       "      <td>47.000000</td>\n",
       "    </tr>\n",
       "    <tr>\n",
       "      <th>50%</th>\n",
       "      <td>67.000000</td>\n",
       "    </tr>\n",
       "    <tr>\n",
       "      <th>75%</th>\n",
       "      <td>89.000000</td>\n",
       "    </tr>\n",
       "    <tr>\n",
       "      <th>max</th>\n",
       "      <td>253.000000</td>\n",
       "    </tr>\n",
       "  </tbody>\n",
       "</table>\n",
       "</div>"
      ],
      "text/plain": [
       "        num_orders\n",
       "count  2928.000000\n",
       "mean     69.478484\n",
       "std      33.797497\n",
       "min       0.000000\n",
       "25%      47.000000\n",
       "50%      67.000000\n",
       "75%      89.000000\n",
       "max     253.000000"
      ]
     },
     "execution_count": 6,
     "metadata": {},
     "output_type": "execute_result"
    }
   ],
   "source": [
    "df.describe()"
   ]
  },
  {
   "cell_type": "markdown",
   "metadata": {},
   "source": [
    "- Podemos observar que tenemos datos duplicados, en este contexto es algo probable ya que estamos obteniendo la suma de pedidos cada hora de cada dia del dataset, como estamos hablando de pedidos de taxi cierto que piden taxi por rutina, viajes programados semanales o diarios, etc. por ende es normal que haya dias que se repitan la cantidad de pedidos por hora"
   ]
  },
  {
   "cell_type": "code",
   "execution_count": 7,
   "metadata": {},
   "outputs": [
    {
     "name": "stdout",
     "output_type": "stream",
     "text": [
      "Comprobamos los datos duplicados en el dataset.\n",
      "El dataset tiene 2745 duplicados.\n"
     ]
    }
   ],
   "source": [
    "print('Comprobamos los datos duplicados en el dataset.')\n",
    "print('El dataset tiene',df.duplicated().sum(),'duplicados.')"
   ]
  },
  {
   "cell_type": "code",
   "execution_count": 8,
   "metadata": {},
   "outputs": [
    {
     "name": "stdout",
     "output_type": "stream",
     "text": [
      "Comprobamos si hay datos nulos.\n",
      "num_orders    0\n",
      "dtype: int64\n"
     ]
    }
   ],
   "source": [
    "print('Comprobamos si hay datos nulos.')\n",
    "print(df.isnull().sum())"
   ]
  },
  {
   "cell_type": "markdown",
   "metadata": {},
   "source": [
    "## Análisis\n",
    "\n",
    "- Realizamos una del DataFrame original para poder trabajar con este con el objetivo obtener la media movil y la desviacion estandar sin afectar los futuros procesos del proyecto, ya que solo usaremos esta copia para poder graficar las estadisticas antes mencionadas."
   ]
  },
  {
   "cell_type": "code",
   "execution_count": 9,
   "metadata": {},
   "outputs": [
    {
     "data": {
      "text/plain": [
       "<AxesSubplot:xlabel='datetime'>"
      ]
     },
     "execution_count": 9,
     "metadata": {},
     "output_type": "execute_result"
    },
    {
     "data": {
      "image/png": "[encoded data removed]",
      "text/plain": [
       "<Figure size 640x480 with 1 Axes>"
      ]
     },
     "metadata": {},
     "output_type": "display_data"
    }
   ],
   "source": [
    "df_rolling=df.copy()\n",
    "mean_ten = df['num_orders'].rolling(60).mean()\n",
    "std_ten = df['num_orders'].rolling(60).std()\n",
    "df_rolling['rolling_mean']=mean_ten\n",
    "df_rolling['rolling_std']=std_ten\n",
    "df_rolling.plot()"
   ]
  },
  {
   "cell_type": "markdown",
   "metadata": {},
   "source": [
    "- Ahora utilizamos el DataFrame original para calcular las tendencia de los datos con la libreria seasonal_descompose"
   ]
  },
  {
   "cell_type": "code",
   "execution_count": 10,
   "metadata": {},
   "outputs": [],
   "source": [
    "decomposed = seasonal_decompose(df)"
   ]
  },
  {
   "cell_type": "markdown",
   "metadata": {},
   "source": [
    "- Graficamos distintos dias del DataFrame para visualizar las horas del dia que se obtienen mayor cantidad de pedidos de taxi de una forma sencilla de comparar."
   ]
  },
  {
   "cell_type": "code",
   "execution_count": 11,
   "metadata": {},
   "outputs": [
    {
     "data": {
      "image/png": "[encoded data removed]",
      "text/plain": [
       "<Figure size 640x480 with 1 Axes>"
      ]
     },
     "metadata": {},
     "output_type": "display_data"
    },
    {
     "data": {
      "image/png": "[encoded data removed]",
      "text/plain": [
       "<Figure size 640x480 with 1 Axes>"
      ]
     },
     "metadata": {},
     "output_type": "display_data"
    },
    {
     "data": {
      "image/png": "[encoded data removed]",
      "text/plain": [
       "<Figure size 640x480 with 1 Axes>"
      ]
     },
     "metadata": {},
     "output_type": "display_data"
    },
    {
     "data": {
      "image/png": "[encoded data removed]",
      "text/plain": [
       "<Figure size 640x480 with 1 Axes>"
      ]
     },
     "metadata": {},
     "output_type": "display_data"
    },
    {
     "data": {
      "image/png": "[encoded data removed]",
      "text/plain": [
       "<Figure size 640x480 with 1 Axes>"
      ]
     },
     "metadata": {},
     "output_type": "display_data"
    },
    {
     "data": {
      "image/png": "[encoded data removed]",
      "text/plain": [
       "<Figure size 640x480 with 1 Axes>"
      ]
     },
     "metadata": {},
     "output_type": "display_data"
    },
    {
     "data": {
      "image/png": "[encoded data removed]",
      "text/plain": [
       "<Figure size 640x480 with 1 Axes>"
      ]
     },
     "metadata": {},
     "output_type": "display_data"
    },
    {
     "data": {
      "image/png": "[encoded data removed]",
      "text/plain": [
       "<Figure size 640x480 with 1 Axes>"
      ]
     },
     "metadata": {},
     "output_type": "display_data"
    }
   ],
   "source": [
    "\n",
    "for i in range (8):\n",
    "    i=i+1\n",
    "    date='2018-03-0{}'.format(i)\n",
    "    decomposed.seasonal[date].plot()\n",
    "    plt.show()\n"
   ]
  },
  {
   "cell_type": "markdown",
   "metadata": {},
   "source": [
    "- Podemos observar que en la primera semana del mes de marzo la hora con mayor pedidos de taxi es a las 00:00 horas, y el horario con menor cantidad de pedidos es a las 6:00."
   ]
  },
  {
   "cell_type": "markdown",
   "metadata": {},
   "source": [
    "## Formación\n",
    "\n",
    "- Realizamos una funcion para crear nuevas caracteristicas para nuestro modelo"
   ]
  },
  {
   "cell_type": "code",
   "execution_count": 12,
   "metadata": {},
   "outputs": [],
   "source": [
    "def make_features(data, max_lag, rolling_mean_size):\n",
    "    data['year'] = data.index.year\n",
    "    data['month'] = data.index.month\n",
    "    data['day'] = data.index.day\n",
    "    data['dayofweek'] = data.index.dayofweek\n",
    "    \n",
    "    for lag in range(1, max_lag + 1):\n",
    "        data['lag_{}'.format(lag)] = data['num_orders'].shift(lag)\n",
    "    data['rolling_mean'] = (data['num_orders'].shift().rolling(rolling_mean_size).mean())"
   ]
  },
  {
   "cell_type": "markdown",
   "metadata": {},
   "source": [
    "- Ejecutamos nuestra funcion y mostramos las primeras filas del DataFrame obtenido."
   ]
  },
  {
   "cell_type": "code",
   "execution_count": 13,
   "metadata": {},
   "outputs": [
    {
     "name": "stdout",
     "output_type": "stream",
     "text": [
      "                     num_orders  year  month  day  dayofweek  lag_1  lag_2  \\\n",
      "datetime                                                                     \n",
      "2018-03-01 00:00:00         124  2018      3    1          3    NaN    NaN   \n",
      "2018-03-01 01:00:00          85  2018      3    1          3  124.0    NaN   \n",
      "2018-03-01 02:00:00          71  2018      3    1          3   85.0  124.0   \n",
      "2018-03-01 03:00:00          66  2018      3    1          3   71.0   85.0   \n",
      "2018-03-01 04:00:00          43  2018      3    1          3   66.0   71.0   \n",
      "\n",
      "                     lag_3  lag_4  rolling_mean  \n",
      "datetime                                         \n",
      "2018-03-01 00:00:00    NaN    NaN           NaN  \n",
      "2018-03-01 01:00:00    NaN    NaN           NaN  \n",
      "2018-03-01 02:00:00    NaN    NaN           NaN  \n",
      "2018-03-01 03:00:00  124.0    NaN           NaN  \n",
      "2018-03-01 04:00:00   85.0  124.0          86.5  \n"
     ]
    }
   ],
   "source": [
    "make_features(df, 4, 4)\n",
    "print(df.head())"
   ]
  },
  {
   "cell_type": "markdown",
   "metadata": {},
   "source": [
    "- Creamos los conjuntos de entrenamiento y test para nuestro modelo, recordar que el proyecto nos solicita que la muestra de prueba debe ser el 10% del conjunto de datos inicial. "
   ]
  },
  {
   "cell_type": "code",
   "execution_count": 14,
   "metadata": {},
   "outputs": [],
   "source": [
    "train, test = train_test_split(df, shuffle=False, test_size=0.1)\n",
    "train = train.dropna()"
   ]
  },
  {
   "cell_type": "code",
   "execution_count": 15,
   "metadata": {},
   "outputs": [
    {
     "name": "stdout",
     "output_type": "stream",
     "text": [
      "2018-03-01 04:00:00 2018-06-18 18:00:00\n",
      "2018-06-18 19:00:00 2018-06-30 23:00:00\n"
     ]
    }
   ],
   "source": [
    "print(train.index.min(), train.index.max())\n",
    "print(test.index.min(), test.index.max())"
   ]
  },
  {
   "cell_type": "code",
   "execution_count": 16,
   "metadata": {},
   "outputs": [],
   "source": [
    "features_train = train.drop(['num_orders'], axis=1)\n",
    "target_train = train['num_orders']\n",
    "features_test = test.drop(['num_orders'], axis=1)\n",
    "target_test = test['num_orders']"
   ]
  },
  {
   "cell_type": "markdown",
   "metadata": {},
   "source": [
    "- Creamos nuestro modelo, lo entrenamos con los conjuntos previamente creados y declaramos nuestras variables de predicion para obtener el RECM del modelo."
   ]
  },
  {
   "cell_type": "code",
   "execution_count": 17,
   "metadata": {},
   "outputs": [],
   "source": [
    "model = LinearRegression()\n",
    "model.fit(features_train, target_train)\n",
    "\n",
    "pred_train = model.predict(features_train)\n",
    "pred_test = model.predict(features_test)"
   ]
  },
  {
   "cell_type": "markdown",
   "metadata": {},
   "source": [
    "## Prueba\n",
    "\n",
    "- Mostramos el RECM del modelo con los conjuntos de entrenamiento y test."
   ]
  },
  {
   "cell_type": "code",
   "execution_count": 18,
   "metadata": {},
   "outputs": [
    {
     "name": "stdout",
     "output_type": "stream",
     "text": [
      "RECM para el conjunto de entrenamiento: 27.750895155012707\n",
      "RECM para el conjunto de prueba: 30.54643364988421\n"
     ]
    }
   ],
   "source": [
    "print('RECM para el conjunto de entrenamiento:', mean_squared_error(target_train, pred_train)**0.5)\n",
    "print('RECM para el conjunto de prueba:', mean_squared_error(target_test, pred_test)**0.5)"
   ]
  },
  {
   "cell_type": "markdown",
   "metadata": {},
   "source": [
    "## Conclusion"
   ]
  },
  {
   "cell_type": "markdown",
   "metadata": {},
   "source": [
    "Sabemos que la compañía Sweet Lift Taxi ha recopilado datos históricos sobre pedidos de taxis en los aeropuertos. Para atraer a más conductores durante las horas pico y necesitamos predecir la cantidad de pedidos de taxis para la próxima hora.\n",
    "\n",
    "Por aagrupamos los datos por la suma total de pedidos obtenido a cada hora y graficamos la tendencia permitiendo visualizar que la hora con menos pedidos de taxi es a las 6:00  y la hora con mayor pedido es a las 00:00 horas,\n",
    "\n",
    "Tener en cuenta que las otras horas del dia se obtienen suma de pedidos muy superiores a las 6:00 horas y estan por debajo de las 00:00 horas pero por muy poco.\n",
    "\n",
    "Nuestro modelo obtuvo los siguientes valores de RECM con los conjuntos de entrenamiento y test.\n",
    "\n",
    "- RECM para el conjunto de entrenamiento: 27.750895155012707\n",
    "- RECM para el conjunto de prueba: 30.54643364988421\n",
    "\n",
    "No superan los"
   ]
  }
 ],
 "metadata": {
  "ExecuteTimeLog": [
   {
    "duration": 5729,
    "start_time": "2024-06-01T06:13:17.841Z"
   },
   {
    "duration": 109,
    "start_time": "2024-06-01T06:13:27.274Z"
   },
   {
    "duration": 16,
    "start_time": "2024-06-01T06:13:28.736Z"
   },
   {
    "duration": 19,
    "start_time": "2024-06-01T06:13:34.522Z"
   },
   {
    "duration": 19,
    "start_time": "2024-06-01T06:13:39.317Z"
   },
   {
    "duration": 8,
    "start_time": "2024-06-01T06:13:40.501Z"
   },
   {
    "duration": 1654,
    "start_time": "2024-06-01T06:15:44.850Z"
   },
   {
    "duration": 41,
    "start_time": "2024-06-01T06:15:46.508Z"
   },
   {
    "duration": 427,
    "start_time": "2024-06-01T06:15:46.552Z"
   },
   {
    "duration": 0,
    "start_time": "2024-06-01T06:15:46.982Z"
   },
   {
    "duration": 0,
    "start_time": "2024-06-01T06:15:46.984Z"
   },
   {
    "duration": 0,
    "start_time": "2024-06-01T06:15:46.986Z"
   },
   {
    "duration": 1,
    "start_time": "2024-06-01T06:15:46.987Z"
   },
   {
    "duration": 1659,
    "start_time": "2024-06-01T06:16:04.831Z"
   },
   {
    "duration": 41,
    "start_time": "2024-06-01T06:16:06.494Z"
   },
   {
    "duration": 5,
    "start_time": "2024-06-01T06:16:06.538Z"
   },
   {
    "duration": 14,
    "start_time": "2024-06-01T06:16:06.546Z"
   },
   {
    "duration": 23,
    "start_time": "2024-06-01T06:16:06.566Z"
   },
   {
    "duration": 40,
    "start_time": "2024-06-01T06:16:06.593Z"
   },
   {
    "duration": 6,
    "start_time": "2024-06-01T06:16:06.636Z"
   },
   {
    "duration": 1821,
    "start_time": "2024-06-01T06:35:22.891Z"
   },
   {
    "duration": 42,
    "start_time": "2024-06-01T06:35:24.717Z"
   },
   {
    "duration": 6,
    "start_time": "2024-06-01T06:35:24.764Z"
   },
   {
    "duration": 10,
    "start_time": "2024-06-01T06:35:24.775Z"
   },
   {
    "duration": 48,
    "start_time": "2024-06-01T06:35:24.789Z"
   },
   {
    "duration": 19,
    "start_time": "2024-06-01T06:35:24.840Z"
   },
   {
    "duration": 7,
    "start_time": "2024-06-01T06:35:24.862Z"
   },
   {
    "duration": 8,
    "start_time": "2024-06-01T06:35:24.872Z"
   },
   {
    "duration": 5395,
    "start_time": "2024-06-01T14:48:15.279Z"
   },
   {
    "duration": 43,
    "start_time": "2024-06-01T14:48:20.678Z"
   },
   {
    "duration": 5,
    "start_time": "2024-06-01T14:48:20.724Z"
   },
   {
    "duration": 22,
    "start_time": "2024-06-01T14:48:20.733Z"
   },
   {
    "duration": 15,
    "start_time": "2024-06-01T14:48:20.760Z"
   },
   {
    "duration": 17,
    "start_time": "2024-06-01T14:48:20.814Z"
   },
   {
    "duration": 7,
    "start_time": "2024-06-01T14:48:20.835Z"
   },
   {
    "duration": 6,
    "start_time": "2024-06-01T14:48:20.845Z"
   },
   {
    "duration": 1051,
    "start_time": "2024-06-01T14:48:20.855Z"
   },
   {
    "duration": 1657,
    "start_time": "2024-06-01T14:53:40.074Z"
   },
   {
    "duration": 40,
    "start_time": "2024-06-01T14:53:41.735Z"
   },
   {
    "duration": 6,
    "start_time": "2024-06-01T14:53:41.778Z"
   },
   {
    "duration": 22,
    "start_time": "2024-06-01T14:53:41.812Z"
   },
   {
    "duration": 13,
    "start_time": "2024-06-01T14:53:41.839Z"
   },
   {
    "duration": 19,
    "start_time": "2024-06-01T14:53:41.855Z"
   },
   {
    "duration": 40,
    "start_time": "2024-06-01T14:53:41.876Z"
   },
   {
    "duration": 7,
    "start_time": "2024-06-01T14:53:41.919Z"
   },
   {
    "duration": 1078,
    "start_time": "2024-06-01T14:53:41.929Z"
   },
   {
    "duration": 503,
    "start_time": "2024-06-01T14:53:43.014Z"
   },
   {
    "duration": 5581,
    "start_time": "2024-06-03T05:48:40.848Z"
   },
   {
    "duration": 42,
    "start_time": "2024-06-03T05:48:46.433Z"
   },
   {
    "duration": 5,
    "start_time": "2024-06-03T05:48:46.478Z"
   },
   {
    "duration": 44,
    "start_time": "2024-06-03T05:48:46.486Z"
   },
   {
    "duration": 15,
    "start_time": "2024-06-03T05:48:46.536Z"
   },
   {
    "duration": 19,
    "start_time": "2024-06-03T05:48:46.554Z"
   },
   {
    "duration": 8,
    "start_time": "2024-06-03T05:48:46.576Z"
   },
   {
    "duration": 7,
    "start_time": "2024-06-03T05:48:46.630Z"
   },
   {
    "duration": 1074,
    "start_time": "2024-06-03T05:48:46.642Z"
   },
   {
    "duration": 563,
    "start_time": "2024-06-03T05:48:47.719Z"
   },
   {
    "duration": 1783,
    "start_time": "2024-06-03T05:54:34.241Z"
   },
   {
    "duration": 45,
    "start_time": "2024-06-03T05:54:36.030Z"
   },
   {
    "duration": 5,
    "start_time": "2024-06-03T05:54:36.081Z"
   },
   {
    "duration": 46,
    "start_time": "2024-06-03T05:54:36.090Z"
   },
   {
    "duration": 17,
    "start_time": "2024-06-03T05:54:36.141Z"
   },
   {
    "duration": 20,
    "start_time": "2024-06-03T05:54:36.161Z"
   },
   {
    "duration": 7,
    "start_time": "2024-06-03T05:54:36.186Z"
   },
   {
    "duration": 8,
    "start_time": "2024-06-03T05:54:36.232Z"
   },
   {
    "duration": 1095,
    "start_time": "2024-06-03T05:54:36.243Z"
   },
   {
    "duration": 543,
    "start_time": "2024-06-03T05:54:37.342Z"
   },
   {
    "duration": 1720,
    "start_time": "2024-06-05T00:30:42.298Z"
   },
   {
    "duration": 39,
    "start_time": "2024-06-05T00:30:44.022Z"
   },
   {
    "duration": 4,
    "start_time": "2024-06-05T00:30:44.064Z"
   },
   {
    "duration": 22,
    "start_time": "2024-06-05T00:30:44.072Z"
   },
   {
    "duration": 13,
    "start_time": "2024-06-05T00:30:44.130Z"
   },
   {
    "duration": 17,
    "start_time": "2024-06-05T00:30:44.145Z"
   },
   {
    "duration": 7,
    "start_time": "2024-06-05T00:30:44.164Z"
   },
   {
    "duration": 6,
    "start_time": "2024-06-05T00:30:44.174Z"
   },
   {
    "duration": 1109,
    "start_time": "2024-06-05T00:30:44.184Z"
   },
   {
    "duration": 505,
    "start_time": "2024-06-05T00:30:45.296Z"
   },
   {
    "duration": 0,
    "start_time": "2024-06-05T00:30:45.805Z"
   },
   {
    "duration": 0,
    "start_time": "2024-06-05T00:30:45.807Z"
   },
   {
    "duration": 0,
    "start_time": "2024-06-05T00:30:45.808Z"
   },
   {
    "duration": 0,
    "start_time": "2024-06-05T00:30:45.811Z"
   },
   {
    "duration": 0,
    "start_time": "2024-06-05T00:30:45.831Z"
   },
   {
    "duration": 0,
    "start_time": "2024-06-05T00:30:45.833Z"
   },
   {
    "duration": 0,
    "start_time": "2024-06-05T00:30:45.835Z"
   },
   {
    "duration": 16,
    "start_time": "2024-06-05T00:30:58.535Z"
   },
   {
    "duration": 5322,
    "start_time": "2024-06-09T21:41:19.723Z"
   },
   {
    "duration": 50,
    "start_time": "2024-06-09T21:41:25.050Z"
   },
   {
    "duration": 6,
    "start_time": "2024-06-09T21:41:25.103Z"
   },
   {
    "duration": 24,
    "start_time": "2024-06-09T21:41:25.123Z"
   },
   {
    "duration": 17,
    "start_time": "2024-06-09T21:41:25.152Z"
   },
   {
    "duration": 60,
    "start_time": "2024-06-09T21:41:25.172Z"
   },
   {
    "duration": 8,
    "start_time": "2024-06-09T21:41:25.235Z"
   },
   {
    "duration": 9,
    "start_time": "2024-06-09T21:41:25.247Z"
   },
   {
    "duration": 1272,
    "start_time": "2024-06-09T21:41:25.260Z"
   },
   {
    "duration": 573,
    "start_time": "2024-06-09T21:41:26.535Z"
   },
   {
    "duration": 0,
    "start_time": "2024-06-09T21:41:27.111Z"
   },
   {
    "duration": 0,
    "start_time": "2024-06-09T21:41:27.115Z"
   },
   {
    "duration": 0,
    "start_time": "2024-06-09T21:41:27.123Z"
   },
   {
    "duration": 0,
    "start_time": "2024-06-09T21:41:27.125Z"
   },
   {
    "duration": 0,
    "start_time": "2024-06-09T21:41:27.127Z"
   },
   {
    "duration": 0,
    "start_time": "2024-06-09T21:41:27.129Z"
   },
   {
    "duration": 0,
    "start_time": "2024-06-09T21:41:27.132Z"
   },
   {
    "duration": 0,
    "start_time": "2024-06-09T21:41:27.135Z"
   },
   {
    "duration": 19,
    "start_time": "2024-06-09T21:42:19.192Z"
   },
   {
    "duration": 1473,
    "start_time": "2024-06-09T21:42:49.179Z"
   },
   {
    "duration": 38,
    "start_time": "2024-06-09T21:42:50.657Z"
   },
   {
    "duration": 5,
    "start_time": "2024-06-09T21:42:50.698Z"
   },
   {
    "duration": 26,
    "start_time": "2024-06-09T21:42:50.723Z"
   },
   {
    "duration": 14,
    "start_time": "2024-06-09T21:42:50.755Z"
   },
   {
    "duration": 51,
    "start_time": "2024-06-09T21:42:50.773Z"
   },
   {
    "duration": 7,
    "start_time": "2024-06-09T21:42:50.827Z"
   },
   {
    "duration": 8,
    "start_time": "2024-06-09T21:42:50.837Z"
   },
   {
    "duration": 1220,
    "start_time": "2024-06-09T21:42:50.848Z"
   },
   {
    "duration": 17,
    "start_time": "2024-06-09T21:42:52.071Z"
   },
   {
    "duration": 581,
    "start_time": "2024-06-09T21:42:52.092Z"
   },
   {
    "duration": 0,
    "start_time": "2024-06-09T21:42:52.677Z"
   },
   {
    "duration": 0,
    "start_time": "2024-06-09T21:42:52.679Z"
   },
   {
    "duration": 0,
    "start_time": "2024-06-09T21:42:52.682Z"
   },
   {
    "duration": 0,
    "start_time": "2024-06-09T21:42:52.684Z"
   },
   {
    "duration": 0,
    "start_time": "2024-06-09T21:42:52.686Z"
   },
   {
    "duration": 0,
    "start_time": "2024-06-09T21:42:52.688Z"
   },
   {
    "duration": 0,
    "start_time": "2024-06-09T21:42:52.691Z"
   },
   {
    "duration": 0,
    "start_time": "2024-06-09T21:42:52.693Z"
   },
   {
    "duration": 1465,
    "start_time": "2024-06-09T21:43:44.189Z"
   },
   {
    "duration": 33,
    "start_time": "2024-06-09T21:43:45.658Z"
   },
   {
    "duration": 5,
    "start_time": "2024-06-09T21:43:45.694Z"
   },
   {
    "duration": 24,
    "start_time": "2024-06-09T21:43:45.722Z"
   },
   {
    "duration": 15,
    "start_time": "2024-06-09T21:43:45.752Z"
   },
   {
    "duration": 18,
    "start_time": "2024-06-09T21:43:45.769Z"
   },
   {
    "duration": 7,
    "start_time": "2024-06-09T21:43:45.824Z"
   },
   {
    "duration": 7,
    "start_time": "2024-06-09T21:43:45.835Z"
   },
   {
    "duration": 1225,
    "start_time": "2024-06-09T21:43:45.845Z"
   },
   {
    "duration": 17,
    "start_time": "2024-06-09T21:43:47.073Z"
   },
   {
    "duration": 574,
    "start_time": "2024-06-09T21:43:47.094Z"
   },
   {
    "duration": 0,
    "start_time": "2024-06-09T21:43:47.671Z"
   },
   {
    "duration": 0,
    "start_time": "2024-06-09T21:43:47.674Z"
   },
   {
    "duration": 0,
    "start_time": "2024-06-09T21:43:47.679Z"
   },
   {
    "duration": 1,
    "start_time": "2024-06-09T21:43:47.681Z"
   },
   {
    "duration": 0,
    "start_time": "2024-06-09T21:43:47.684Z"
   },
   {
    "duration": 0,
    "start_time": "2024-06-09T21:43:47.687Z"
   },
   {
    "duration": 0,
    "start_time": "2024-06-09T21:43:47.689Z"
   },
   {
    "duration": 0,
    "start_time": "2024-06-09T21:43:47.724Z"
   },
   {
    "duration": 1428,
    "start_time": "2024-06-09T21:44:06.473Z"
   },
   {
    "duration": 43,
    "start_time": "2024-06-09T21:44:07.905Z"
   },
   {
    "duration": 5,
    "start_time": "2024-06-09T21:44:07.952Z"
   },
   {
    "duration": 26,
    "start_time": "2024-06-09T21:44:07.960Z"
   },
   {
    "duration": 14,
    "start_time": "2024-06-09T21:44:08.022Z"
   },
   {
    "duration": 17,
    "start_time": "2024-06-09T21:44:08.039Z"
   },
   {
    "duration": 8,
    "start_time": "2024-06-09T21:44:08.059Z"
   },
   {
    "duration": 8,
    "start_time": "2024-06-09T21:44:08.070Z"
   },
   {
    "duration": 1175,
    "start_time": "2024-06-09T21:44:08.124Z"
   },
   {
    "duration": 32,
    "start_time": "2024-06-09T21:44:09.302Z"
   },
   {
    "duration": 598,
    "start_time": "2024-06-09T21:44:09.337Z"
   },
   {
    "duration": 0,
    "start_time": "2024-06-09T21:44:09.939Z"
   },
   {
    "duration": 0,
    "start_time": "2024-06-09T21:44:09.942Z"
   },
   {
    "duration": 0,
    "start_time": "2024-06-09T21:44:09.945Z"
   },
   {
    "duration": 0,
    "start_time": "2024-06-09T21:44:09.948Z"
   },
   {
    "duration": 1,
    "start_time": "2024-06-09T21:44:09.950Z"
   },
   {
    "duration": 0,
    "start_time": "2024-06-09T21:44:09.954Z"
   },
   {
    "duration": 0,
    "start_time": "2024-06-09T21:44:09.956Z"
   },
   {
    "duration": 0,
    "start_time": "2024-06-09T21:44:09.959Z"
   },
   {
    "duration": 1520,
    "start_time": "2024-06-09T21:48:03.278Z"
   },
   {
    "duration": 41,
    "start_time": "2024-06-09T21:48:04.803Z"
   },
   {
    "duration": 6,
    "start_time": "2024-06-09T21:48:04.847Z"
   },
   {
    "duration": 25,
    "start_time": "2024-06-09T21:48:04.856Z"
   },
   {
    "duration": 47,
    "start_time": "2024-06-09T21:48:04.885Z"
   },
   {
    "duration": 17,
    "start_time": "2024-06-09T21:48:04.935Z"
   },
   {
    "duration": 6,
    "start_time": "2024-06-09T21:48:04.955Z"
   },
   {
    "duration": 6,
    "start_time": "2024-06-09T21:48:04.965Z"
   },
   {
    "duration": 1213,
    "start_time": "2024-06-09T21:48:04.974Z"
   },
   {
    "duration": 32,
    "start_time": "2024-06-09T21:48:06.190Z"
   },
   {
    "duration": 534,
    "start_time": "2024-06-09T21:48:06.225Z"
   },
   {
    "duration": 0,
    "start_time": "2024-06-09T21:48:06.762Z"
   },
   {
    "duration": 0,
    "start_time": "2024-06-09T21:48:06.763Z"
   },
   {
    "duration": 0,
    "start_time": "2024-06-09T21:48:06.765Z"
   },
   {
    "duration": 0,
    "start_time": "2024-06-09T21:48:06.768Z"
   },
   {
    "duration": 0,
    "start_time": "2024-06-09T21:48:06.770Z"
   },
   {
    "duration": 0,
    "start_time": "2024-06-09T21:48:06.773Z"
   },
   {
    "duration": 0,
    "start_time": "2024-06-09T21:48:06.775Z"
   },
   {
    "duration": 0,
    "start_time": "2024-06-09T21:48:06.778Z"
   },
   {
    "duration": 45,
    "start_time": "2024-06-09T21:48:32.758Z"
   },
   {
    "duration": 11,
    "start_time": "2024-06-09T21:49:34.911Z"
   },
   {
    "duration": 11,
    "start_time": "2024-06-09T21:49:42.246Z"
   },
   {
    "duration": 12,
    "start_time": "2024-06-09T21:49:52.681Z"
   },
   {
    "duration": 14,
    "start_time": "2024-06-09T21:50:01.031Z"
   },
   {
    "duration": 26,
    "start_time": "2024-06-09T21:50:09.977Z"
   },
   {
    "duration": 17,
    "start_time": "2024-06-09T21:50:20.340Z"
   },
   {
    "duration": 17,
    "start_time": "2024-06-09T21:50:27.321Z"
   },
   {
    "duration": 19,
    "start_time": "2024-06-09T21:50:52.583Z"
   },
   {
    "duration": 1468,
    "start_time": "2024-06-09T21:58:16.375Z"
   },
   {
    "duration": 36,
    "start_time": "2024-06-09T21:58:17.847Z"
   },
   {
    "duration": 5,
    "start_time": "2024-06-09T21:58:17.886Z"
   },
   {
    "duration": 35,
    "start_time": "2024-06-09T21:58:17.895Z"
   },
   {
    "duration": 16,
    "start_time": "2024-06-09T21:58:17.934Z"
   },
   {
    "duration": 21,
    "start_time": "2024-06-09T21:58:17.953Z"
   },
   {
    "duration": 46,
    "start_time": "2024-06-09T21:58:17.977Z"
   },
   {
    "duration": 8,
    "start_time": "2024-06-09T21:58:18.026Z"
   },
   {
    "duration": 597,
    "start_time": "2024-06-09T21:58:18.037Z"
   },
   {
    "duration": 19,
    "start_time": "2024-06-09T21:58:18.636Z"
   },
   {
    "duration": 494,
    "start_time": "2024-06-09T21:58:18.658Z"
   },
   {
    "duration": 0,
    "start_time": "2024-06-09T21:58:19.156Z"
   },
   {
    "duration": 0,
    "start_time": "2024-06-09T21:58:19.160Z"
   },
   {
    "duration": 0,
    "start_time": "2024-06-09T21:58:19.163Z"
   },
   {
    "duration": 0,
    "start_time": "2024-06-09T21:58:19.167Z"
   },
   {
    "duration": 0,
    "start_time": "2024-06-09T21:58:19.170Z"
   },
   {
    "duration": 0,
    "start_time": "2024-06-09T21:58:19.173Z"
   },
   {
    "duration": 1,
    "start_time": "2024-06-09T21:58:19.177Z"
   },
   {
    "duration": 0,
    "start_time": "2024-06-09T21:58:19.180Z"
   },
   {
    "duration": 20,
    "start_time": "2024-06-09T21:58:44.143Z"
   },
   {
    "duration": 8,
    "start_time": "2024-06-09T21:59:20.126Z"
   },
   {
    "duration": 1484,
    "start_time": "2024-06-09T22:07:53.436Z"
   },
   {
    "duration": 36,
    "start_time": "2024-06-09T22:07:54.924Z"
   },
   {
    "duration": 5,
    "start_time": "2024-06-09T22:07:54.962Z"
   },
   {
    "duration": 52,
    "start_time": "2024-06-09T22:07:54.973Z"
   },
   {
    "duration": 14,
    "start_time": "2024-06-09T22:07:55.029Z"
   },
   {
    "duration": 18,
    "start_time": "2024-06-09T22:07:55.046Z"
   },
   {
    "duration": 7,
    "start_time": "2024-06-09T22:07:55.067Z"
   },
   {
    "duration": 49,
    "start_time": "2024-06-09T22:07:55.078Z"
   },
   {
    "duration": 1209,
    "start_time": "2024-06-09T22:07:55.132Z"
   },
   {
    "duration": 8,
    "start_time": "2024-06-09T22:07:56.346Z"
   },
   {
    "duration": 571,
    "start_time": "2024-06-09T22:07:56.357Z"
   },
   {
    "duration": 0,
    "start_time": "2024-06-09T22:07:56.932Z"
   },
   {
    "duration": 0,
    "start_time": "2024-06-09T22:07:56.935Z"
   },
   {
    "duration": 0,
    "start_time": "2024-06-09T22:07:56.938Z"
   },
   {
    "duration": 0,
    "start_time": "2024-06-09T22:07:56.941Z"
   },
   {
    "duration": 0,
    "start_time": "2024-06-09T22:07:56.943Z"
   },
   {
    "duration": 0,
    "start_time": "2024-06-09T22:07:56.946Z"
   },
   {
    "duration": 0,
    "start_time": "2024-06-09T22:07:56.949Z"
   },
   {
    "duration": 0,
    "start_time": "2024-06-09T22:07:56.952Z"
   },
   {
    "duration": 1285,
    "start_time": "2024-06-09T22:08:11.855Z"
   },
   {
    "duration": 8,
    "start_time": "2024-06-09T22:08:16.332Z"
   },
   {
    "duration": 1497,
    "start_time": "2024-06-09T22:08:23.034Z"
   },
   {
    "duration": 42,
    "start_time": "2024-06-09T22:08:24.538Z"
   },
   {
    "duration": 6,
    "start_time": "2024-06-09T22:08:24.583Z"
   },
   {
    "duration": 45,
    "start_time": "2024-06-09T22:08:24.594Z"
   },
   {
    "duration": 16,
    "start_time": "2024-06-09T22:08:24.644Z"
   },
   {
    "duration": 21,
    "start_time": "2024-06-09T22:08:24.663Z"
   },
   {
    "duration": 9,
    "start_time": "2024-06-09T22:08:24.724Z"
   },
   {
    "duration": 7,
    "start_time": "2024-06-09T22:08:24.736Z"
   },
   {
    "duration": 1305,
    "start_time": "2024-06-09T22:08:24.747Z"
   },
   {
    "duration": 9,
    "start_time": "2024-06-09T22:08:26.055Z"
   },
   {
    "duration": 570,
    "start_time": "2024-06-09T22:08:26.067Z"
   },
   {
    "duration": 1,
    "start_time": "2024-06-09T22:08:26.640Z"
   },
   {
    "duration": 0,
    "start_time": "2024-06-09T22:08:26.643Z"
   },
   {
    "duration": 0,
    "start_time": "2024-06-09T22:08:26.645Z"
   },
   {
    "duration": 0,
    "start_time": "2024-06-09T22:08:26.647Z"
   },
   {
    "duration": 0,
    "start_time": "2024-06-09T22:08:26.650Z"
   },
   {
    "duration": 0,
    "start_time": "2024-06-09T22:08:26.653Z"
   },
   {
    "duration": 0,
    "start_time": "2024-06-09T22:08:26.654Z"
   },
   {
    "duration": 0,
    "start_time": "2024-06-09T22:08:26.656Z"
   },
   {
    "duration": 1188,
    "start_time": "2024-06-09T22:08:40.414Z"
   },
   {
    "duration": 8,
    "start_time": "2024-06-09T22:08:44.520Z"
   },
   {
    "duration": 1241,
    "start_time": "2024-06-09T22:11:23.492Z"
   },
   {
    "duration": 7,
    "start_time": "2024-06-09T22:11:27.994Z"
   },
   {
    "duration": 1462,
    "start_time": "2024-06-09T22:14:56.663Z"
   },
   {
    "duration": 35,
    "start_time": "2024-06-09T22:14:58.129Z"
   },
   {
    "duration": 5,
    "start_time": "2024-06-09T22:14:58.167Z"
   },
   {
    "duration": 57,
    "start_time": "2024-06-09T22:14:58.177Z"
   },
   {
    "duration": 17,
    "start_time": "2024-06-09T22:14:58.238Z"
   },
   {
    "duration": 32,
    "start_time": "2024-06-09T22:14:58.259Z"
   },
   {
    "duration": 33,
    "start_time": "2024-06-09T22:14:58.294Z"
   },
   {
    "duration": 8,
    "start_time": "2024-06-09T22:14:58.331Z"
   },
   {
    "duration": 1332,
    "start_time": "2024-06-09T22:14:58.343Z"
   },
   {
    "duration": 9,
    "start_time": "2024-06-09T22:14:59.682Z"
   },
   {
    "duration": 587,
    "start_time": "2024-06-09T22:14:59.695Z"
   },
   {
    "duration": 0,
    "start_time": "2024-06-09T22:15:00.285Z"
   },
   {
    "duration": 0,
    "start_time": "2024-06-09T22:15:00.287Z"
   },
   {
    "duration": 0,
    "start_time": "2024-06-09T22:15:00.290Z"
   },
   {
    "duration": 0,
    "start_time": "2024-06-09T22:15:00.292Z"
   },
   {
    "duration": 0,
    "start_time": "2024-06-09T22:15:00.293Z"
   },
   {
    "duration": 0,
    "start_time": "2024-06-09T22:15:00.295Z"
   },
   {
    "duration": 0,
    "start_time": "2024-06-09T22:15:00.297Z"
   },
   {
    "duration": 0,
    "start_time": "2024-06-09T22:15:00.299Z"
   },
   {
    "duration": 1540,
    "start_time": "2024-06-09T22:16:06.915Z"
   },
   {
    "duration": 35,
    "start_time": "2024-06-09T22:16:08.460Z"
   },
   {
    "duration": 25,
    "start_time": "2024-06-09T22:16:08.498Z"
   },
   {
    "duration": 23,
    "start_time": "2024-06-09T22:16:08.527Z"
   },
   {
    "duration": 15,
    "start_time": "2024-06-09T22:16:08.554Z"
   },
   {
    "duration": 53,
    "start_time": "2024-06-09T22:16:08.573Z"
   },
   {
    "duration": 7,
    "start_time": "2024-06-09T22:16:08.630Z"
   },
   {
    "duration": 7,
    "start_time": "2024-06-09T22:16:08.640Z"
   },
   {
    "duration": 1309,
    "start_time": "2024-06-09T22:16:08.651Z"
   },
   {
    "duration": 9,
    "start_time": "2024-06-09T22:16:09.963Z"
   },
   {
    "duration": 612,
    "start_time": "2024-06-09T22:16:09.977Z"
   },
   {
    "duration": 0,
    "start_time": "2024-06-09T22:16:10.593Z"
   },
   {
    "duration": 0,
    "start_time": "2024-06-09T22:16:10.598Z"
   },
   {
    "duration": 0,
    "start_time": "2024-06-09T22:16:10.602Z"
   },
   {
    "duration": 0,
    "start_time": "2024-06-09T22:16:10.603Z"
   },
   {
    "duration": 0,
    "start_time": "2024-06-09T22:16:10.622Z"
   },
   {
    "duration": 0,
    "start_time": "2024-06-09T22:16:10.626Z"
   },
   {
    "duration": 0,
    "start_time": "2024-06-09T22:16:10.629Z"
   },
   {
    "duration": 0,
    "start_time": "2024-06-09T22:16:10.634Z"
   },
   {
    "duration": 24,
    "start_time": "2024-06-09T22:17:09.321Z"
   },
   {
    "duration": 7,
    "start_time": "2024-06-09T22:17:16.505Z"
   },
   {
    "duration": 5,
    "start_time": "2024-06-09T22:17:17.959Z"
   },
   {
    "duration": 6,
    "start_time": "2024-06-09T22:17:20.626Z"
   },
   {
    "duration": 25,
    "start_time": "2024-06-09T22:17:21.741Z"
   },
   {
    "duration": 1511,
    "start_time": "2024-06-09T22:17:58.252Z"
   },
   {
    "duration": 35,
    "start_time": "2024-06-09T22:17:59.769Z"
   },
   {
    "duration": 23,
    "start_time": "2024-06-09T22:17:59.808Z"
   },
   {
    "duration": 24,
    "start_time": "2024-06-09T22:17:59.836Z"
   },
   {
    "duration": 15,
    "start_time": "2024-06-09T22:17:59.864Z"
   },
   {
    "duration": 57,
    "start_time": "2024-06-09T22:17:59.883Z"
   },
   {
    "duration": 6,
    "start_time": "2024-06-09T22:17:59.943Z"
   },
   {
    "duration": 7,
    "start_time": "2024-06-09T22:17:59.953Z"
   },
   {
    "duration": 1420,
    "start_time": "2024-06-09T22:17:59.963Z"
   },
   {
    "duration": 8,
    "start_time": "2024-06-09T22:18:01.387Z"
   },
   {
    "duration": 611,
    "start_time": "2024-06-09T22:18:01.398Z"
   },
   {
    "duration": 0,
    "start_time": "2024-06-09T22:18:02.013Z"
   },
   {
    "duration": 0,
    "start_time": "2024-06-09T22:18:02.014Z"
   },
   {
    "duration": 0,
    "start_time": "2024-06-09T22:18:02.016Z"
   },
   {
    "duration": 0,
    "start_time": "2024-06-09T22:18:02.022Z"
   },
   {
    "duration": 0,
    "start_time": "2024-06-09T22:18:02.027Z"
   },
   {
    "duration": 0,
    "start_time": "2024-06-09T22:18:02.031Z"
   },
   {
    "duration": 0,
    "start_time": "2024-06-09T22:18:02.034Z"
   },
   {
    "duration": 0,
    "start_time": "2024-06-09T22:18:02.036Z"
   },
   {
    "duration": 7,
    "start_time": "2024-06-09T22:18:05.894Z"
   },
   {
    "duration": 5,
    "start_time": "2024-06-09T22:18:08.594Z"
   },
   {
    "duration": 7,
    "start_time": "2024-06-09T22:18:09.507Z"
   },
   {
    "duration": 26,
    "start_time": "2024-06-09T22:18:10.378Z"
   },
   {
    "duration": 9,
    "start_time": "2024-06-09T22:18:13.886Z"
   },
   {
    "duration": 339,
    "start_time": "2024-06-09T22:18:15.224Z"
   },
   {
    "duration": 4994,
    "start_time": "2024-06-12T04:30:23.889Z"
   },
   {
    "duration": 46,
    "start_time": "2024-06-12T04:30:28.887Z"
   },
   {
    "duration": 5,
    "start_time": "2024-06-12T04:30:28.936Z"
   },
   {
    "duration": 22,
    "start_time": "2024-06-12T04:30:28.944Z"
   },
   {
    "duration": 13,
    "start_time": "2024-06-12T04:30:28.971Z"
   },
   {
    "duration": 52,
    "start_time": "2024-06-12T04:30:28.987Z"
   },
   {
    "duration": 6,
    "start_time": "2024-06-12T04:30:29.041Z"
   },
   {
    "duration": 6,
    "start_time": "2024-06-12T04:30:29.050Z"
   },
   {
    "duration": 927,
    "start_time": "2024-06-12T04:30:29.060Z"
   },
   {
    "duration": 5,
    "start_time": "2024-06-12T04:30:29.993Z"
   },
   {
    "duration": 561,
    "start_time": "2024-06-12T04:30:30.001Z"
   },
   {
    "duration": 0,
    "start_time": "2024-06-12T04:30:30.566Z"
   },
   {
    "duration": 0,
    "start_time": "2024-06-12T04:30:30.568Z"
   },
   {
    "duration": 0,
    "start_time": "2024-06-12T04:30:30.571Z"
   },
   {
    "duration": 0,
    "start_time": "2024-06-12T04:30:30.573Z"
   },
   {
    "duration": 0,
    "start_time": "2024-06-12T04:30:30.574Z"
   },
   {
    "duration": 0,
    "start_time": "2024-06-12T04:30:30.576Z"
   },
   {
    "duration": 0,
    "start_time": "2024-06-12T04:30:30.578Z"
   },
   {
    "duration": 0,
    "start_time": "2024-06-12T04:30:30.581Z"
   },
   {
    "duration": 7,
    "start_time": "2024-06-12T04:31:41.420Z"
   },
   {
    "duration": 6,
    "start_time": "2024-06-12T04:31:42.160Z"
   },
   {
    "duration": 5,
    "start_time": "2024-06-12T04:31:42.953Z"
   },
   {
    "duration": 27,
    "start_time": "2024-06-12T04:31:49.032Z"
   },
   {
    "duration": 6,
    "start_time": "2024-06-12T04:31:50.474Z"
   },
   {
    "duration": 444,
    "start_time": "2024-06-12T04:31:51.867Z"
   },
   {
    "duration": 24,
    "start_time": "2024-06-12T04:32:02.821Z"
   },
   {
    "duration": 2314,
    "start_time": "2024-06-12T04:33:23.623Z"
   },
   {
    "duration": 1573,
    "start_time": "2024-06-12T04:36:41.237Z"
   },
   {
    "duration": 46,
    "start_time": "2024-06-12T04:36:42.813Z"
   },
   {
    "duration": 5,
    "start_time": "2024-06-12T04:36:42.861Z"
   },
   {
    "duration": 20,
    "start_time": "2024-06-12T04:36:42.869Z"
   },
   {
    "duration": 39,
    "start_time": "2024-06-12T04:36:42.894Z"
   },
   {
    "duration": 29,
    "start_time": "2024-06-12T04:36:42.937Z"
   },
   {
    "duration": 7,
    "start_time": "2024-06-12T04:36:42.970Z"
   },
   {
    "duration": 7,
    "start_time": "2024-06-12T04:36:42.979Z"
   },
   {
    "duration": 924,
    "start_time": "2024-06-12T04:36:42.989Z"
   },
   {
    "duration": 6,
    "start_time": "2024-06-12T04:36:43.916Z"
   },
   {
    "duration": 442,
    "start_time": "2024-06-12T04:36:43.934Z"
   },
   {
    "duration": 0,
    "start_time": "2024-06-12T04:36:44.379Z"
   },
   {
    "duration": 0,
    "start_time": "2024-06-12T04:36:44.381Z"
   },
   {
    "duration": 0,
    "start_time": "2024-06-12T04:36:44.383Z"
   },
   {
    "duration": 0,
    "start_time": "2024-06-12T04:36:44.385Z"
   },
   {
    "duration": 0,
    "start_time": "2024-06-12T04:36:44.387Z"
   },
   {
    "duration": 0,
    "start_time": "2024-06-12T04:36:44.389Z"
   },
   {
    "duration": 0,
    "start_time": "2024-06-12T04:36:44.391Z"
   },
   {
    "duration": 0,
    "start_time": "2024-06-12T04:36:44.392Z"
   },
   {
    "duration": 143,
    "start_time": "2024-06-12T04:37:02.021Z"
   },
   {
    "duration": 24,
    "start_time": "2024-06-12T04:38:58.073Z"
   },
   {
    "duration": 53,
    "start_time": "2024-06-12T04:39:07.591Z"
   },
   {
    "duration": 1346,
    "start_time": "2024-06-12T04:44:39.198Z"
   },
   {
    "duration": 34,
    "start_time": "2024-06-12T04:44:40.547Z"
   },
   {
    "duration": 4,
    "start_time": "2024-06-12T04:44:40.584Z"
   },
   {
    "duration": 46,
    "start_time": "2024-06-12T04:44:40.591Z"
   },
   {
    "duration": 13,
    "start_time": "2024-06-12T04:44:40.642Z"
   },
   {
    "duration": 15,
    "start_time": "2024-06-12T04:44:40.658Z"
   },
   {
    "duration": 7,
    "start_time": "2024-06-12T04:44:40.676Z"
   },
   {
    "duration": 47,
    "start_time": "2024-06-12T04:44:40.686Z"
   },
   {
    "duration": 1192,
    "start_time": "2024-06-12T04:44:40.737Z"
   },
   {
    "duration": 9,
    "start_time": "2024-06-12T04:44:41.932Z"
   },
   {
    "duration": 544,
    "start_time": "2024-06-12T04:44:41.948Z"
   },
   {
    "duration": 0,
    "start_time": "2024-06-12T04:44:42.496Z"
   },
   {
    "duration": 0,
    "start_time": "2024-06-12T04:44:42.498Z"
   },
   {
    "duration": 0,
    "start_time": "2024-06-12T04:44:42.500Z"
   },
   {
    "duration": 0,
    "start_time": "2024-06-12T04:44:42.501Z"
   },
   {
    "duration": 0,
    "start_time": "2024-06-12T04:44:42.504Z"
   },
   {
    "duration": 0,
    "start_time": "2024-06-12T04:44:42.506Z"
   },
   {
    "duration": 0,
    "start_time": "2024-06-12T04:44:42.509Z"
   },
   {
    "duration": 21,
    "start_time": "2024-06-12T04:44:42.511Z"
   },
   {
    "duration": 2260,
    "start_time": "2024-06-12T04:46:04.797Z"
   },
   {
    "duration": 1438,
    "start_time": "2024-06-12T04:46:59.318Z"
   },
   {
    "duration": 33,
    "start_time": "2024-06-12T04:47:00.760Z"
   },
   {
    "duration": 5,
    "start_time": "2024-06-12T04:47:00.795Z"
   },
   {
    "duration": 45,
    "start_time": "2024-06-12T04:47:00.804Z"
   },
   {
    "duration": 14,
    "start_time": "2024-06-12T04:47:00.852Z"
   },
   {
    "duration": 17,
    "start_time": "2024-06-12T04:47:00.868Z"
   },
   {
    "duration": 7,
    "start_time": "2024-06-12T04:47:00.888Z"
   },
   {
    "duration": 7,
    "start_time": "2024-06-12T04:47:00.934Z"
   },
   {
    "duration": 1216,
    "start_time": "2024-06-12T04:47:00.945Z"
   },
   {
    "duration": 7,
    "start_time": "2024-06-12T04:47:02.167Z"
   },
   {
    "duration": 534,
    "start_time": "2024-06-12T04:47:02.177Z"
   },
   {
    "duration": 0,
    "start_time": "2024-06-12T04:47:02.714Z"
   },
   {
    "duration": 0,
    "start_time": "2024-06-12T04:47:02.716Z"
   },
   {
    "duration": 0,
    "start_time": "2024-06-12T04:47:02.717Z"
   },
   {
    "duration": 0,
    "start_time": "2024-06-12T04:47:02.719Z"
   },
   {
    "duration": 0,
    "start_time": "2024-06-12T04:47:02.734Z"
   },
   {
    "duration": 0,
    "start_time": "2024-06-12T04:47:02.736Z"
   },
   {
    "duration": 0,
    "start_time": "2024-06-12T04:47:02.738Z"
   },
   {
    "duration": 0,
    "start_time": "2024-06-12T04:47:02.740Z"
   },
   {
    "duration": 1374,
    "start_time": "2024-06-12T04:47:31.367Z"
   },
   {
    "duration": 36,
    "start_time": "2024-06-12T04:47:32.745Z"
   },
   {
    "duration": 5,
    "start_time": "2024-06-12T04:47:32.785Z"
   },
   {
    "duration": 47,
    "start_time": "2024-06-12T04:47:32.794Z"
   },
   {
    "duration": 15,
    "start_time": "2024-06-12T04:47:32.847Z"
   },
   {
    "duration": 20,
    "start_time": "2024-06-12T04:47:32.865Z"
   },
   {
    "duration": 10,
    "start_time": "2024-06-12T04:47:32.887Z"
   },
   {
    "duration": 8,
    "start_time": "2024-06-12T04:47:32.934Z"
   },
   {
    "duration": 975,
    "start_time": "2024-06-12T04:47:32.946Z"
   },
   {
    "duration": 9,
    "start_time": "2024-06-12T04:47:33.932Z"
   },
   {
    "duration": 579,
    "start_time": "2024-06-12T04:47:33.945Z"
   },
   {
    "duration": 0,
    "start_time": "2024-06-12T04:47:34.533Z"
   },
   {
    "duration": 0,
    "start_time": "2024-06-12T04:47:34.535Z"
   },
   {
    "duration": 0,
    "start_time": "2024-06-12T04:47:34.537Z"
   },
   {
    "duration": 0,
    "start_time": "2024-06-12T04:47:34.540Z"
   },
   {
    "duration": 0,
    "start_time": "2024-06-12T04:47:34.542Z"
   },
   {
    "duration": 0,
    "start_time": "2024-06-12T04:47:34.545Z"
   },
   {
    "duration": 0,
    "start_time": "2024-06-12T04:47:34.546Z"
   },
   {
    "duration": 0,
    "start_time": "2024-06-12T04:47:34.548Z"
   },
   {
    "duration": 992,
    "start_time": "2024-06-12T04:47:48.169Z"
   },
   {
    "duration": 8,
    "start_time": "2024-06-12T04:47:53.662Z"
   },
   {
    "duration": 7,
    "start_time": "2024-06-12T04:48:29.945Z"
   },
   {
    "duration": 1028,
    "start_time": "2024-06-12T04:48:44.464Z"
   },
   {
    "duration": 1346,
    "start_time": "2024-06-12T04:48:53.281Z"
   },
   {
    "duration": 35,
    "start_time": "2024-06-12T04:48:54.630Z"
   },
   {
    "duration": 5,
    "start_time": "2024-06-12T04:48:54.667Z"
   },
   {
    "duration": 22,
    "start_time": "2024-06-12T04:48:54.677Z"
   },
   {
    "duration": 38,
    "start_time": "2024-06-12T04:48:54.704Z"
   },
   {
    "duration": 16,
    "start_time": "2024-06-12T04:48:54.745Z"
   },
   {
    "duration": 6,
    "start_time": "2024-06-12T04:48:54.764Z"
   },
   {
    "duration": 5,
    "start_time": "2024-06-12T04:48:54.774Z"
   },
   {
    "duration": 478,
    "start_time": "2024-06-12T04:48:54.832Z"
   },
   {
    "duration": 0,
    "start_time": "2024-06-12T04:48:55.314Z"
   },
   {
    "duration": 0,
    "start_time": "2024-06-12T04:48:55.316Z"
   },
   {
    "duration": 0,
    "start_time": "2024-06-12T04:48:55.318Z"
   },
   {
    "duration": 0,
    "start_time": "2024-06-12T04:48:55.332Z"
   },
   {
    "duration": 0,
    "start_time": "2024-06-12T04:48:55.334Z"
   },
   {
    "duration": 0,
    "start_time": "2024-06-12T04:48:55.336Z"
   },
   {
    "duration": 0,
    "start_time": "2024-06-12T04:48:55.339Z"
   },
   {
    "duration": 0,
    "start_time": "2024-06-12T04:48:55.341Z"
   },
   {
    "duration": 0,
    "start_time": "2024-06-12T04:48:55.343Z"
   },
   {
    "duration": 0,
    "start_time": "2024-06-12T04:48:55.345Z"
   },
   {
    "duration": 968,
    "start_time": "2024-06-12T04:49:11.577Z"
   },
   {
    "duration": 7,
    "start_time": "2024-06-12T04:49:20.458Z"
   },
   {
    "duration": 1005,
    "start_time": "2024-06-12T04:49:41.789Z"
   },
   {
    "duration": 7,
    "start_time": "2024-06-12T04:51:48.436Z"
   },
   {
    "duration": 1002,
    "start_time": "2024-06-12T04:52:05.908Z"
   },
   {
    "duration": 1447,
    "start_time": "2024-06-12T04:52:21.616Z"
   },
   {
    "duration": 33,
    "start_time": "2024-06-12T04:52:23.068Z"
   },
   {
    "duration": 5,
    "start_time": "2024-06-12T04:52:23.104Z"
   },
   {
    "duration": 39,
    "start_time": "2024-06-12T04:52:23.112Z"
   },
   {
    "duration": 14,
    "start_time": "2024-06-12T04:52:23.155Z"
   },
   {
    "duration": 17,
    "start_time": "2024-06-12T04:52:23.171Z"
   },
   {
    "duration": 47,
    "start_time": "2024-06-12T04:52:23.190Z"
   },
   {
    "duration": 9,
    "start_time": "2024-06-12T04:52:23.239Z"
   },
   {
    "duration": 928,
    "start_time": "2024-06-12T04:52:23.252Z"
   },
   {
    "duration": 6,
    "start_time": "2024-06-12T04:52:24.183Z"
   },
   {
    "duration": 548,
    "start_time": "2024-06-12T04:52:24.192Z"
   },
   {
    "duration": 0,
    "start_time": "2024-06-12T04:52:24.744Z"
   },
   {
    "duration": 0,
    "start_time": "2024-06-12T04:52:24.746Z"
   },
   {
    "duration": 0,
    "start_time": "2024-06-12T04:52:24.748Z"
   },
   {
    "duration": 0,
    "start_time": "2024-06-12T04:52:24.751Z"
   },
   {
    "duration": 0,
    "start_time": "2024-06-12T04:52:24.753Z"
   },
   {
    "duration": 0,
    "start_time": "2024-06-12T04:52:24.756Z"
   },
   {
    "duration": 0,
    "start_time": "2024-06-12T04:52:24.758Z"
   },
   {
    "duration": 0,
    "start_time": "2024-06-12T04:52:24.760Z"
   },
   {
    "duration": 1209,
    "start_time": "2024-06-12T04:53:13.012Z"
   },
   {
    "duration": 6,
    "start_time": "2024-06-12T04:53:18.782Z"
   },
   {
    "duration": 54,
    "start_time": "2024-06-12T04:53:29.035Z"
   },
   {
    "duration": 28,
    "start_time": "2024-06-12T04:54:11.878Z"
   },
   {
    "duration": 1353,
    "start_time": "2024-06-12T04:58:08.377Z"
   },
   {
    "duration": 33,
    "start_time": "2024-06-12T04:58:09.734Z"
   },
   {
    "duration": 5,
    "start_time": "2024-06-12T04:58:09.770Z"
   },
   {
    "duration": 14,
    "start_time": "2024-06-12T04:58:09.778Z"
   },
   {
    "duration": 38,
    "start_time": "2024-06-12T04:58:09.798Z"
   },
   {
    "duration": 19,
    "start_time": "2024-06-12T04:58:09.840Z"
   },
   {
    "duration": 7,
    "start_time": "2024-06-12T04:58:09.862Z"
   },
   {
    "duration": 9,
    "start_time": "2024-06-12T04:58:09.879Z"
   },
   {
    "duration": 393,
    "start_time": "2024-06-12T04:58:09.933Z"
   },
   {
    "duration": 475,
    "start_time": "2024-06-12T04:58:10.333Z"
   },
   {
    "duration": 0,
    "start_time": "2024-06-12T04:58:10.812Z"
   },
   {
    "duration": 0,
    "start_time": "2024-06-12T04:58:10.814Z"
   },
   {
    "duration": 0,
    "start_time": "2024-06-12T04:58:10.815Z"
   },
   {
    "duration": 0,
    "start_time": "2024-06-12T04:58:10.817Z"
   },
   {
    "duration": 0,
    "start_time": "2024-06-12T04:58:10.819Z"
   },
   {
    "duration": 0,
    "start_time": "2024-06-12T04:58:10.835Z"
   },
   {
    "duration": 0,
    "start_time": "2024-06-12T04:58:10.840Z"
   },
   {
    "duration": 0,
    "start_time": "2024-06-12T04:58:10.843Z"
   },
   {
    "duration": 85,
    "start_time": "2024-06-12T04:58:44.049Z"
   },
   {
    "duration": 1358,
    "start_time": "2024-06-12T04:59:12.366Z"
   },
   {
    "duration": 33,
    "start_time": "2024-06-12T04:59:13.728Z"
   },
   {
    "duration": 4,
    "start_time": "2024-06-12T04:59:13.765Z"
   },
   {
    "duration": 14,
    "start_time": "2024-06-12T04:59:13.773Z"
   },
   {
    "duration": 47,
    "start_time": "2024-06-12T04:59:13.791Z"
   },
   {
    "duration": 18,
    "start_time": "2024-06-12T04:59:13.840Z"
   },
   {
    "duration": 7,
    "start_time": "2024-06-12T04:59:13.861Z"
   },
   {
    "duration": 6,
    "start_time": "2024-06-12T04:59:13.871Z"
   },
   {
    "duration": 540,
    "start_time": "2024-06-12T04:59:13.881Z"
   },
   {
    "duration": 237,
    "start_time": "2024-06-12T04:59:14.424Z"
   },
   {
    "duration": 14,
    "start_time": "2024-06-12T04:59:14.664Z"
   },
   {
    "duration": 6,
    "start_time": "2024-06-12T04:59:14.682Z"
   },
   {
    "duration": 41,
    "start_time": "2024-06-12T04:59:14.691Z"
   },
   {
    "duration": 5,
    "start_time": "2024-06-12T04:59:14.738Z"
   },
   {
    "duration": 18,
    "start_time": "2024-06-12T04:59:14.747Z"
   },
   {
    "duration": 6,
    "start_time": "2024-06-12T04:59:14.768Z"
   },
   {
    "duration": 772,
    "start_time": "2024-06-12T04:59:14.778Z"
   },
   {
    "duration": 0,
    "start_time": "2024-06-12T04:59:15.553Z"
   },
   {
    "duration": 142,
    "start_time": "2024-06-12T05:00:10.083Z"
   },
   {
    "duration": 45,
    "start_time": "2024-06-12T05:00:22.006Z"
   },
   {
    "duration": 1426,
    "start_time": "2024-06-12T05:00:27.326Z"
   },
   {
    "duration": 32,
    "start_time": "2024-06-12T05:00:28.756Z"
   },
   {
    "duration": 4,
    "start_time": "2024-06-12T05:00:28.791Z"
   },
   {
    "duration": 39,
    "start_time": "2024-06-12T05:00:28.798Z"
   },
   {
    "duration": 13,
    "start_time": "2024-06-12T05:00:28.842Z"
   },
   {
    "duration": 18,
    "start_time": "2024-06-12T05:00:28.858Z"
   },
   {
    "duration": 7,
    "start_time": "2024-06-12T05:00:28.879Z"
   },
   {
    "duration": 44,
    "start_time": "2024-06-12T05:00:28.889Z"
   },
   {
    "duration": 473,
    "start_time": "2024-06-12T05:00:28.936Z"
   },
   {
    "duration": 323,
    "start_time": "2024-06-12T05:00:29.413Z"
   },
   {
    "duration": 13,
    "start_time": "2024-06-12T05:00:29.739Z"
   },
   {
    "duration": 6,
    "start_time": "2024-06-12T05:00:29.754Z"
   },
   {
    "duration": 6,
    "start_time": "2024-06-12T05:00:29.763Z"
   },
   {
    "duration": 5,
    "start_time": "2024-06-12T05:00:29.776Z"
   },
   {
    "duration": 62,
    "start_time": "2024-06-12T05:00:29.784Z"
   },
   {
    "duration": 7,
    "start_time": "2024-06-12T05:00:29.849Z"
   },
   {
    "duration": 721,
    "start_time": "2024-06-12T05:00:29.859Z"
   },
   {
    "duration": 0,
    "start_time": "2024-06-12T05:00:30.582Z"
   },
   {
    "duration": 1358,
    "start_time": "2024-06-12T05:00:57.189Z"
   },
   {
    "duration": 33,
    "start_time": "2024-06-12T05:00:58.550Z"
   },
   {
    "duration": 4,
    "start_time": "2024-06-12T05:00:58.588Z"
   },
   {
    "duration": 41,
    "start_time": "2024-06-12T05:00:58.596Z"
   },
   {
    "duration": 14,
    "start_time": "2024-06-12T05:00:58.641Z"
   },
   {
    "duration": 18,
    "start_time": "2024-06-12T05:00:58.658Z"
   },
   {
    "duration": 6,
    "start_time": "2024-06-12T05:00:58.679Z"
   },
   {
    "duration": 48,
    "start_time": "2024-06-12T05:00:58.688Z"
   },
   {
    "duration": 474,
    "start_time": "2024-06-12T05:00:58.739Z"
   },
   {
    "duration": 209,
    "start_time": "2024-06-12T05:00:59.217Z"
   },
   {
    "duration": 15,
    "start_time": "2024-06-12T05:00:59.436Z"
   },
   {
    "duration": 7,
    "start_time": "2024-06-12T05:00:59.454Z"
   },
   {
    "duration": 6,
    "start_time": "2024-06-12T05:00:59.464Z"
   },
   {
    "duration": 11,
    "start_time": "2024-06-12T05:00:59.476Z"
   },
   {
    "duration": 57,
    "start_time": "2024-06-12T05:00:59.490Z"
   },
   {
    "duration": 7,
    "start_time": "2024-06-12T05:00:59.550Z"
   },
   {
    "duration": 736,
    "start_time": "2024-06-12T05:00:59.560Z"
   },
   {
    "duration": 0,
    "start_time": "2024-06-12T05:01:00.299Z"
   },
   {
    "duration": 146,
    "start_time": "2024-06-12T05:01:13.731Z"
   },
   {
    "duration": 1342,
    "start_time": "2024-06-12T05:01:18.482Z"
   },
   {
    "duration": 33,
    "start_time": "2024-06-12T05:01:19.828Z"
   },
   {
    "duration": 5,
    "start_time": "2024-06-12T05:01:19.863Z"
   },
   {
    "duration": 14,
    "start_time": "2024-06-12T05:01:19.871Z"
   },
   {
    "duration": 48,
    "start_time": "2024-06-12T05:01:19.890Z"
   },
   {
    "duration": 19,
    "start_time": "2024-06-12T05:01:19.941Z"
   },
   {
    "duration": 6,
    "start_time": "2024-06-12T05:01:19.963Z"
   },
   {
    "duration": 7,
    "start_time": "2024-06-12T05:01:19.973Z"
   },
   {
    "duration": 520,
    "start_time": "2024-06-12T05:01:19.985Z"
   },
   {
    "duration": 193,
    "start_time": "2024-06-12T05:01:20.509Z"
   },
   {
    "duration": 13,
    "start_time": "2024-06-12T05:01:20.705Z"
   },
   {
    "duration": 6,
    "start_time": "2024-06-12T05:01:20.734Z"
   },
   {
    "duration": 5,
    "start_time": "2024-06-12T05:01:20.743Z"
   },
   {
    "duration": 6,
    "start_time": "2024-06-12T05:01:20.754Z"
   },
   {
    "duration": 20,
    "start_time": "2024-06-12T05:01:20.763Z"
   },
   {
    "duration": 50,
    "start_time": "2024-06-12T05:01:20.786Z"
   },
   {
    "duration": 745,
    "start_time": "2024-06-12T05:01:20.839Z"
   },
   {
    "duration": 0,
    "start_time": "2024-06-12T05:01:21.587Z"
   },
   {
    "duration": 142,
    "start_time": "2024-06-12T05:03:27.646Z"
   },
   {
    "duration": 1409,
    "start_time": "2024-06-12T05:03:33.917Z"
   },
   {
    "duration": 33,
    "start_time": "2024-06-12T05:03:35.329Z"
   },
   {
    "duration": 4,
    "start_time": "2024-06-12T05:03:35.365Z"
   },
   {
    "duration": 13,
    "start_time": "2024-06-12T05:03:35.373Z"
   },
   {
    "duration": 46,
    "start_time": "2024-06-12T05:03:35.392Z"
   },
   {
    "duration": 19,
    "start_time": "2024-06-12T05:03:35.442Z"
   },
   {
    "duration": 6,
    "start_time": "2024-06-12T05:03:35.465Z"
   },
   {
    "duration": 6,
    "start_time": "2024-06-12T05:03:35.474Z"
   },
   {
    "duration": 533,
    "start_time": "2024-06-12T05:03:35.484Z"
   },
   {
    "duration": 716,
    "start_time": "2024-06-12T05:03:36.020Z"
   },
   {
    "duration": 0,
    "start_time": "2024-06-12T05:03:36.740Z"
   },
   {
    "duration": 0,
    "start_time": "2024-06-12T05:03:36.742Z"
   },
   {
    "duration": 0,
    "start_time": "2024-06-12T05:03:36.745Z"
   },
   {
    "duration": 0,
    "start_time": "2024-06-12T05:03:36.747Z"
   },
   {
    "duration": 0,
    "start_time": "2024-06-12T05:03:36.749Z"
   },
   {
    "duration": 0,
    "start_time": "2024-06-12T05:03:36.752Z"
   },
   {
    "duration": 0,
    "start_time": "2024-06-12T05:03:36.753Z"
   },
   {
    "duration": 0,
    "start_time": "2024-06-12T05:03:36.756Z"
   },
   {
    "duration": 1393,
    "start_time": "2024-06-12T05:05:25.643Z"
   },
   {
    "duration": 33,
    "start_time": "2024-06-12T05:05:27.041Z"
   },
   {
    "duration": 4,
    "start_time": "2024-06-12T05:05:27.077Z"
   },
   {
    "duration": 17,
    "start_time": "2024-06-12T05:05:27.084Z"
   },
   {
    "duration": 19,
    "start_time": "2024-06-12T05:05:27.135Z"
   },
   {
    "duration": 25,
    "start_time": "2024-06-12T05:05:27.159Z"
   },
   {
    "duration": 7,
    "start_time": "2024-06-12T05:05:27.187Z"
   },
   {
    "duration": 38,
    "start_time": "2024-06-12T05:05:27.197Z"
   },
   {
    "duration": 499,
    "start_time": "2024-06-12T05:05:27.238Z"
   },
   {
    "duration": 1119,
    "start_time": "2024-06-12T05:05:27.740Z"
   },
   {
    "duration": 0,
    "start_time": "2024-06-12T05:05:28.862Z"
   },
   {
    "duration": 0,
    "start_time": "2024-06-12T05:05:28.865Z"
   },
   {
    "duration": 0,
    "start_time": "2024-06-12T05:05:28.867Z"
   },
   {
    "duration": 0,
    "start_time": "2024-06-12T05:05:28.869Z"
   },
   {
    "duration": 0,
    "start_time": "2024-06-12T05:05:28.871Z"
   },
   {
    "duration": 0,
    "start_time": "2024-06-12T05:05:28.873Z"
   },
   {
    "duration": 0,
    "start_time": "2024-06-12T05:05:28.875Z"
   },
   {
    "duration": 0,
    "start_time": "2024-06-12T05:05:28.878Z"
   },
   {
    "duration": 1379,
    "start_time": "2024-06-12T05:06:26.775Z"
   },
   {
    "duration": 33,
    "start_time": "2024-06-12T05:06:28.158Z"
   },
   {
    "duration": 5,
    "start_time": "2024-06-12T05:06:28.193Z"
   },
   {
    "duration": 35,
    "start_time": "2024-06-12T05:06:28.201Z"
   },
   {
    "duration": 14,
    "start_time": "2024-06-12T05:06:28.241Z"
   },
   {
    "duration": 19,
    "start_time": "2024-06-12T05:06:28.258Z"
   },
   {
    "duration": 6,
    "start_time": "2024-06-12T05:06:28.280Z"
   },
   {
    "duration": 47,
    "start_time": "2024-06-12T05:06:28.289Z"
   },
   {
    "duration": 478,
    "start_time": "2024-06-12T05:06:28.339Z"
   },
   {
    "duration": 1119,
    "start_time": "2024-06-12T05:06:28.822Z"
   },
   {
    "duration": 0,
    "start_time": "2024-06-12T05:06:29.944Z"
   },
   {
    "duration": 0,
    "start_time": "2024-06-12T05:06:29.947Z"
   },
   {
    "duration": 0,
    "start_time": "2024-06-12T05:06:29.949Z"
   },
   {
    "duration": 0,
    "start_time": "2024-06-12T05:06:29.951Z"
   },
   {
    "duration": 0,
    "start_time": "2024-06-12T05:06:29.953Z"
   },
   {
    "duration": 0,
    "start_time": "2024-06-12T05:06:29.955Z"
   },
   {
    "duration": 0,
    "start_time": "2024-06-12T05:06:29.959Z"
   },
   {
    "duration": 0,
    "start_time": "2024-06-12T05:06:29.961Z"
   },
   {
    "duration": 171,
    "start_time": "2024-06-12T05:06:51.503Z"
   },
   {
    "duration": 1417,
    "start_time": "2024-06-12T05:06:55.605Z"
   },
   {
    "duration": 32,
    "start_time": "2024-06-12T05:06:57.025Z"
   },
   {
    "duration": 5,
    "start_time": "2024-06-12T05:06:57.060Z"
   },
   {
    "duration": 14,
    "start_time": "2024-06-12T05:06:57.070Z"
   },
   {
    "duration": 48,
    "start_time": "2024-06-12T05:06:57.087Z"
   },
   {
    "duration": 25,
    "start_time": "2024-06-12T05:06:57.139Z"
   },
   {
    "duration": 9,
    "start_time": "2024-06-12T05:06:57.168Z"
   },
   {
    "duration": 8,
    "start_time": "2024-06-12T05:06:57.181Z"
   },
   {
    "duration": 512,
    "start_time": "2024-06-12T05:06:57.193Z"
   },
   {
    "duration": 1123,
    "start_time": "2024-06-12T05:06:57.711Z"
   },
   {
    "duration": 0,
    "start_time": "2024-06-12T05:06:58.837Z"
   },
   {
    "duration": 1,
    "start_time": "2024-06-12T05:06:58.839Z"
   },
   {
    "duration": 0,
    "start_time": "2024-06-12T05:06:58.844Z"
   },
   {
    "duration": 0,
    "start_time": "2024-06-12T05:06:58.846Z"
   },
   {
    "duration": 0,
    "start_time": "2024-06-12T05:06:58.848Z"
   },
   {
    "duration": 0,
    "start_time": "2024-06-12T05:06:58.850Z"
   },
   {
    "duration": 0,
    "start_time": "2024-06-12T05:06:58.852Z"
   },
   {
    "duration": 0,
    "start_time": "2024-06-12T05:06:58.854Z"
   },
   {
    "duration": 1497,
    "start_time": "2024-06-12T05:07:13.595Z"
   },
   {
    "duration": 40,
    "start_time": "2024-06-12T05:07:15.095Z"
   },
   {
    "duration": 4,
    "start_time": "2024-06-12T05:07:15.138Z"
   },
   {
    "duration": 14,
    "start_time": "2024-06-12T05:07:15.147Z"
   },
   {
    "duration": 14,
    "start_time": "2024-06-12T05:07:15.164Z"
   },
   {
    "duration": 58,
    "start_time": "2024-06-12T05:07:15.181Z"
   },
   {
    "duration": 7,
    "start_time": "2024-06-12T05:07:15.242Z"
   },
   {
    "duration": 7,
    "start_time": "2024-06-12T05:07:15.252Z"
   },
   {
    "duration": 499,
    "start_time": "2024-06-12T05:07:15.262Z"
   },
   {
    "duration": 323,
    "start_time": "2024-06-12T05:07:15.768Z"
   },
   {
    "duration": 13,
    "start_time": "2024-06-12T05:07:16.094Z"
   },
   {
    "duration": 27,
    "start_time": "2024-06-12T05:07:16.110Z"
   },
   {
    "duration": 5,
    "start_time": "2024-06-12T05:07:16.140Z"
   },
   {
    "duration": 6,
    "start_time": "2024-06-12T05:07:16.148Z"
   },
   {
    "duration": 18,
    "start_time": "2024-06-12T05:07:16.158Z"
   },
   {
    "duration": 6,
    "start_time": "2024-06-12T05:07:16.179Z"
   },
   {
    "duration": 720,
    "start_time": "2024-06-12T05:07:16.232Z"
   },
   {
    "duration": 0,
    "start_time": "2024-06-12T05:07:16.956Z"
   },
   {
    "duration": 1383,
    "start_time": "2024-06-12T05:07:46.297Z"
   },
   {
    "duration": 33,
    "start_time": "2024-06-12T05:07:47.685Z"
   },
   {
    "duration": 14,
    "start_time": "2024-06-12T05:07:47.720Z"
   },
   {
    "duration": 15,
    "start_time": "2024-06-12T05:07:47.737Z"
   },
   {
    "duration": 13,
    "start_time": "2024-06-12T05:07:47.757Z"
   },
   {
    "duration": 58,
    "start_time": "2024-06-12T05:07:47.775Z"
   },
   {
    "duration": 6,
    "start_time": "2024-06-12T05:07:47.835Z"
   },
   {
    "duration": 7,
    "start_time": "2024-06-12T05:07:47.844Z"
   },
   {
    "duration": 499,
    "start_time": "2024-06-12T05:07:47.854Z"
   },
   {
    "duration": 1600,
    "start_time": "2024-06-12T05:07:48.357Z"
   },
   {
    "duration": 13,
    "start_time": "2024-06-12T05:07:49.960Z"
   },
   {
    "duration": 6,
    "start_time": "2024-06-12T05:07:49.977Z"
   },
   {
    "duration": 5,
    "start_time": "2024-06-12T05:07:49.986Z"
   },
   {
    "duration": 6,
    "start_time": "2024-06-12T05:07:50.034Z"
   },
   {
    "duration": 19,
    "start_time": "2024-06-12T05:07:50.042Z"
   },
   {
    "duration": 9,
    "start_time": "2024-06-12T05:07:50.064Z"
   },
   {
    "duration": 818,
    "start_time": "2024-06-12T05:07:50.075Z"
   },
   {
    "duration": 0,
    "start_time": "2024-06-12T05:07:50.897Z"
   },
   {
    "duration": 1403,
    "start_time": "2024-06-12T05:10:35.853Z"
   },
   {
    "duration": 33,
    "start_time": "2024-06-12T05:10:37.260Z"
   },
   {
    "duration": 5,
    "start_time": "2024-06-12T05:10:37.296Z"
   },
   {
    "duration": 34,
    "start_time": "2024-06-12T05:10:37.304Z"
   },
   {
    "duration": 14,
    "start_time": "2024-06-12T05:10:37.342Z"
   },
   {
    "duration": 18,
    "start_time": "2024-06-12T05:10:37.359Z"
   },
   {
    "duration": 6,
    "start_time": "2024-06-12T05:10:37.380Z"
   },
   {
    "duration": 46,
    "start_time": "2024-06-12T05:10:37.390Z"
   },
   {
    "duration": 469,
    "start_time": "2024-06-12T05:10:37.440Z"
   },
   {
    "duration": 333,
    "start_time": "2024-06-12T05:10:37.912Z"
   },
   {
    "duration": 12,
    "start_time": "2024-06-12T05:10:38.248Z"
   },
   {
    "duration": 6,
    "start_time": "2024-06-12T05:10:38.264Z"
   },
   {
    "duration": 5,
    "start_time": "2024-06-12T05:10:38.273Z"
   },
   {
    "duration": 5,
    "start_time": "2024-06-12T05:10:38.285Z"
   },
   {
    "duration": 57,
    "start_time": "2024-06-12T05:10:38.293Z"
   },
   {
    "duration": 6,
    "start_time": "2024-06-12T05:10:38.353Z"
   },
   {
    "duration": 740,
    "start_time": "2024-06-12T05:10:38.362Z"
   },
   {
    "duration": 0,
    "start_time": "2024-06-12T05:10:39.106Z"
   },
   {
    "duration": 1404,
    "start_time": "2024-06-12T05:11:56.536Z"
   },
   {
    "duration": 33,
    "start_time": "2024-06-12T05:11:57.943Z"
   },
   {
    "duration": 5,
    "start_time": "2024-06-12T05:11:57.979Z"
   },
   {
    "duration": 14,
    "start_time": "2024-06-12T05:11:57.987Z"
   },
   {
    "duration": 14,
    "start_time": "2024-06-12T05:11:58.033Z"
   },
   {
    "duration": 18,
    "start_time": "2024-06-12T05:11:58.050Z"
   },
   {
    "duration": 6,
    "start_time": "2024-06-12T05:11:58.070Z"
   },
   {
    "duration": 5,
    "start_time": "2024-06-12T05:11:58.080Z"
   },
   {
    "duration": 462,
    "start_time": "2024-06-12T05:11:58.132Z"
   },
   {
    "duration": 12,
    "start_time": "2024-06-12T05:11:58.596Z"
   },
   {
    "duration": 7,
    "start_time": "2024-06-12T05:11:58.611Z"
   },
   {
    "duration": 0,
    "start_time": "2024-06-12T05:11:58.633Z"
   },
   {
    "duration": 0,
    "start_time": "2024-06-12T05:11:58.634Z"
   },
   {
    "duration": 0,
    "start_time": "2024-06-12T05:11:58.637Z"
   },
   {
    "duration": 0,
    "start_time": "2024-06-12T05:11:58.639Z"
   },
   {
    "duration": 0,
    "start_time": "2024-06-12T05:11:58.641Z"
   },
   {
    "duration": 0,
    "start_time": "2024-06-12T05:11:58.643Z"
   },
   {
    "duration": 0,
    "start_time": "2024-06-12T05:11:58.644Z"
   },
   {
    "duration": 0,
    "start_time": "2024-06-12T05:11:58.647Z"
   },
   {
    "duration": 1424,
    "start_time": "2024-06-12T05:12:07.881Z"
   },
   {
    "duration": 1644,
    "start_time": "2024-06-12T05:12:51.787Z"
   },
   {
    "duration": 13,
    "start_time": "2024-06-12T05:13:05.137Z"
   },
   {
    "duration": 1425,
    "start_time": "2024-06-12T05:13:20.008Z"
   },
   {
    "duration": 35,
    "start_time": "2024-06-12T05:13:21.437Z"
   },
   {
    "duration": 5,
    "start_time": "2024-06-12T05:13:21.475Z"
   },
   {
    "duration": 15,
    "start_time": "2024-06-12T05:13:21.483Z"
   },
   {
    "duration": 44,
    "start_time": "2024-06-12T05:13:21.501Z"
   },
   {
    "duration": 20,
    "start_time": "2024-06-12T05:13:21.550Z"
   },
   {
    "duration": 6,
    "start_time": "2024-06-12T05:13:21.572Z"
   },
   {
    "duration": 7,
    "start_time": "2024-06-12T05:13:21.581Z"
   },
   {
    "duration": 508,
    "start_time": "2024-06-12T05:13:21.633Z"
   },
   {
    "duration": 14,
    "start_time": "2024-06-12T05:13:22.144Z"
   },
   {
    "duration": 1615,
    "start_time": "2024-06-12T05:13:22.160Z"
   },
   {
    "duration": 5,
    "start_time": "2024-06-12T05:13:23.778Z"
   },
   {
    "duration": 5,
    "start_time": "2024-06-12T05:13:23.787Z"
   },
   {
    "duration": 7,
    "start_time": "2024-06-12T05:13:23.797Z"
   },
   {
    "duration": 20,
    "start_time": "2024-06-12T05:13:23.834Z"
   },
   {
    "duration": 7,
    "start_time": "2024-06-12T05:13:23.857Z"
   },
   {
    "duration": 905,
    "start_time": "2024-06-12T05:13:23.867Z"
   },
   {
    "duration": 0,
    "start_time": "2024-06-12T05:13:24.778Z"
   },
   {
    "duration": 319,
    "start_time": "2024-06-12T05:13:32.506Z"
   },
   {
    "duration": 1632,
    "start_time": "2024-06-12T05:13:37.803Z"
   },
   {
    "duration": 1413,
    "start_time": "2024-06-12T05:18:15.302Z"
   },
   {
    "duration": 33,
    "start_time": "2024-06-12T05:18:16.718Z"
   },
   {
    "duration": 4,
    "start_time": "2024-06-12T05:18:16.754Z"
   },
   {
    "duration": 14,
    "start_time": "2024-06-12T05:18:16.762Z"
   },
   {
    "duration": 14,
    "start_time": "2024-06-12T05:18:16.780Z"
   },
   {
    "duration": 52,
    "start_time": "2024-06-12T05:18:16.797Z"
   },
   {
    "duration": 6,
    "start_time": "2024-06-12T05:18:16.852Z"
   },
   {
    "duration": 7,
    "start_time": "2024-06-12T05:18:16.861Z"
   },
   {
    "duration": 555,
    "start_time": "2024-06-12T05:18:16.871Z"
   },
   {
    "duration": 11,
    "start_time": "2024-06-12T05:18:17.429Z"
   },
   {
    "duration": 1603,
    "start_time": "2024-06-12T05:18:17.442Z"
   },
   {
    "duration": 6,
    "start_time": "2024-06-12T05:18:19.048Z"
   },
   {
    "duration": 19,
    "start_time": "2024-06-12T05:18:19.058Z"
   },
   {
    "duration": 9,
    "start_time": "2024-06-12T05:18:19.082Z"
   },
   {
    "duration": 41,
    "start_time": "2024-06-12T05:18:19.094Z"
   },
   {
    "duration": 8,
    "start_time": "2024-06-12T05:18:19.138Z"
   },
   {
    "duration": 84,
    "start_time": "2024-06-12T05:18:19.149Z"
   },
   {
    "duration": 10,
    "start_time": "2024-06-12T05:18:19.236Z"
   }
  ],
  "kernelspec": {
   "display_name": "Python 3 (ipykernel)",
   "language": "python",
   "name": "python3"
  },
  "language_info": {
   "codemirror_mode": {
    "name": "ipython",
    "version": 3
   },
   "file_extension": ".py",
   "mimetype": "text/x-python",
   "name": "python",
   "nbconvert_exporter": "python",
   "pygments_lexer": "ipython3",
   "version": "3.9.19"
  },
  "toc": {
   "base_numbering": 1,
   "nav_menu": {},
   "number_sections": true,
   "sideBar": true,
   "skip_h1_title": true,
   "title_cell": "Table of Contents",
   "title_sidebar": "Contents",
   "toc_cell": false,
   "toc_position": {},
   "toc_section_display": true,
   "toc_window_display": false
  }
 },
 "nbformat": 4,
 "nbformat_minor": 2
}
